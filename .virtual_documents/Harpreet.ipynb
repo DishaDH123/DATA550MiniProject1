import pandas as pd
import altair as alt


credit_data=pd.read_csv("default of credit card clients.csv",header=[1])
credit_data.head()


credit_data.isnull().sum()


credit_data.info()
credit_data.shape


credit_data['default payment next month']=credit_data['default payment next month'].astype('category')


credit_data.describe()


alt.data_transformers.enable('default', max_rows=None)
alt.Chart(credit_data.melt()).mark_boxplot().encode(
    x='variable',
    y='value'
)


#bill amt and pay_amt outlier at a single row.
credit_data.query('BILL_AMT3 >= 1600000')


credit_data=credit_data.drop(5296)


credit_data['MARRIAGE']=credit_data['MARRIAGE'].astype('category')
credit_data['EDUCATION']=credit_data['EDUCATION'].astype('category')
credit_data['SEX']=credit_data['SEX'].astype('category')


credit_data.info()


alt.Chart(credit_data).mark_circle().encode(alt.X('EDUCATION:N'),alt.Y('MARRIAGE:N'),alt.OpacityValue(0.7),alt.Color('SEX:N'),size='LIMIT_BAL:Q').properties(
    width=300,
    height=250
)


credit_data_subset=credit_data.query('PAY_0 >= 1')
credit_data_subset['PAY_0']=credit_data_subset['PAY_0'].astype('category')
select = alt.selection(type='interval')
values = alt.Chart(credit_data_subset).mark_point().encode(alt.X('BILL_AMT1',axis=alt.Axis(title='Bill amount (in NT dollar)', grid=False,labelFontSize=15,titleFontSize=17)),alt.Y('PAY_AMT1',axis=alt.Axis(title='Paid amount (in NT dollar)', grid=False,labelFontSize=15,titleFontSize=17)),
            opacity=alt.value(0.3),
    color=alt.condition(select, 'PAY_0:N', alt.value('lightgray'))
).properties(title="Last Quarter monthly delayed report").add_selection(
    select
)
bars = alt.Chart(credit_data_subset).mark_bar().encode(
     alt.X('count(PAY_0):Q', axis=alt.Axis(title='Total records', grid=False,labelFontSize=13,titleFontSize=15)),
    alt.Y('PAY_0:N',axis=alt.Axis(title='Count of month payment delayed', grid=False,labelFontSize=13,titleFontSize=15)),
    color=alt.Color('PAY_0:N',legend=alt.Legend(
        orient="bottom",title="Month count payment delayed",labelFontSize=8,titleFontSize=10))
).properties(title="Summary of range",height=200).transform_filter(
    select
)
values & bars


g=credit_data[['AGE','default payment next month']]
g['default payment next month']=pd.to_numeric(g['default payment next month'])
g['AGE'] = pd.cut(g['AGE'],bins=[20,40,60,100])
h=g.groupby(['AGE']).sum()
h['total']=g.groupby(['AGE']).count()
h['PERCENTAGE']=(h['default payment next month']/h['total'])*100
h['PERCENTAGE']=round(h['PERCENTAGE'],2)
h=h.reset_index()
h['AGE']=h['AGE'].astype(str)


bars=alt.Chart(h).mark_bar().encode(x=alt.X('PERCENTAGE:Q', axis=alt.Axis(title='Percentage of defaulters(in %)', grid=False)),y=alt.Y('AGE:N', sort='x', axis=alt.Axis(title='Age Group')))
text= bars.mark_text(align = "left", baseline = "middle",dx=2).encode(text = "PERCENTAGE:Q")

chart =(bars + text).properties(height = 240,title="Age group vs default")

chart.configure_axis(grid=False).configure_view(strokeWidth=0).configure_title(fontSize=20,font='Courier',anchor='start',color='grey').configure_axis(labelFontSize=13,titleFontSize=15) 
