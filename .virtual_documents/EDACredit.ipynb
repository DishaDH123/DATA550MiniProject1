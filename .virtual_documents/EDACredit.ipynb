import pandas as pd
import altair as alt


creditdata=pd.read_csv("default of credit card clients.csv")


creditdata



creditdata.head()



creditdata.describe()



creditdata.info()


creditdata.tail()


creditdata.dtypes
#All the columns are of the object type


creditdata["X3"].unique()
creditdata["X4"].unique()
creditdata["X5"].unique()
creditdata["X6"].unique()
creditdata["X7"].unique()
creditdata["X8"].unique()



creditdata["X10"].unique()
creditdata["X11"].unique()
creditdata["X12"].unique()


creditdata=pd.read_csv("default of credit card clients.csv", header=[1])



creditdata.describe()


creditdata.isnull().sum()


creditdata.info()


alt.data_transformers.enable('default', max_rows=None)
alt.Chart(creditdata.melt()).mark_boxplot().encode(
    x='variable',
    y='value'
)


#bill amt and pay_amt outlier at a single row.
creditdata.query('BILL_AMT3 >= 1600000')
creditdata=creditdata.drop(5296)


creditdata['MARRIAGE']=creditdata['MARRIAGE'].astype('category')
creditdata['EDUCATION']=creditdata['EDUCATION'].astype('category')
creditdata['SEX']=creditdata['SEX'].astype('category')


creditdata.info()


import altair as alt
import pandas as pd
import numpy as np
alt.renderers.enable('mimetype')
alt.data_transformers.enable('data_server')


alt.Chart(creditdata).mark_bar().encode(x='AGE',
    y='LIMIT_BAL',
    color='AGE',
)





creditdata_subset=creditdata.query('PAY_0 >= 1')
creditdata_subset['PAY_0']=creditdata_subset['PAY_0'].astype('category')
select = alt.selection(type='interval')
values = alt.Chart(creditdata_subset).mark_point().encode(alt.X('BILL_AMT1',axis=alt.Axis(title='Bill amount (in NT dollar)', grid=False,labelFontSize=15,titleFontSize=17)),alt.Y('PAY_AMT1',axis=alt.Axis(title='Paid amount (in NT dollar)', grid=False,labelFontSize=15,titleFontSize=17)),
            opacity=alt.value(0.3),
    color=alt.condition(select, 'PAY_0:N', alt.value('lightgray'))
).properties(title="Last Quarter monthly delayed report").add_selection(
    select
)
bars = alt.Chart(creditdata_subset).mark_bar().encode(
     alt.X('count(PAY_0):Q', axis=alt.Axis(title='Total records', grid=False,labelFontSize=13,titleFontSize=15)),
    alt.Y('PAY_0:N',axis=alt.Axis(title='Count of month payment delayed', grid=False,labelFontSize=13,titleFontSize=15)),
    color=alt.Color('PAY_0:N',legend=alt.Legend(
        orient="bottom",title="Month count payment delayed",labelFontSize=8,titleFontSize=10))
).properties(title="Summary of range",height=200).transform_filter(
    select
)
values & bars


age_defaulters=creditdata[['AGE','default payment next month']]
age_defaulters['default payment next month']=pd.to_numeric(age_defaulters['default payment next month'])
age_defaulters['AGE'] = pd.cut(age_defaulters['AGE'],bins=[20,40,60,100])
age_defaulters_percentage=age_defaulters.groupby(['AGE']).sum()
age_defaulters_percentage['total']=age_defaulters.groupby(['AGE']).count()
age_defaulters_percentage['PERCENTAGE']=(age_defaulters_percentage['default payment next month']/age_defaulters_percentage['total'])*100
age_defaulters_percentage['PERCENTAGE']=round(age_defaulters_percentage['PERCENTAGE'],2)
age_defaulters_percentage=age_defaulters_percentage.reset_index()
age_defaulters_percentage['AGE']=age_defaulters_percentage['AGE'].astype(str)
bars=alt.Chart(age_defaulters_percentage).mark_bar().encode(x=alt.X('PERCENTAGE:Q', axis=alt.Axis(title='Percentage of defaulters(in %)', grid=False)),y=alt.Y('AGE:N', sort='x', axis=alt.Axis(title='Age Group')))
text= bars.mark_text(align = "left", baseline = "middle",dx=2).encode(text = "PERCENTAGE:Q")

chart =(bars + text).properties(height = 240,title="Age group vs default")

chart.configure_axis(grid=False).configure_view(strokeWidth=0).configure_title(fontSize=20,font='Courier',anchor='start',color='grey').configure_axis(labelFontSize=13,titleFontSize=15) 
